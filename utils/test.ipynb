{
 "cells": [
  {
   "cell_type": "code",
   "execution_count": 4,
   "metadata": {},
   "outputs": [],
   "source": [
    "import requests\n",
    "from lxml import html\n",
    "\n",
    "url = 'https://www.waytoagi.com/sites'\n",
    "\n",
    "headers= {\n",
    "    'User-Agent':'Mozilla/5.0 (Windows NT 10.0; Win64; x64) AppleWebKit/537.36 (KHTML, like Gecko) Chrome/126.0.0.0 Safari/537.36'\n",
    "}\n",
    "\n",
    "def get_ai_tools_links(url,headers):\n",
    "    response = requests.get(url,headers=headers).content.decode('utf-8')\n",
    "\n",
    "    tree = html.fromstring(response)\n",
    "\n",
    "    links = tree.xpath('/html/body/div/div/div/a')\n",
    "\n",
    "    a_elements = []\n",
    "    for link in links:\n",
    "        href = link.get('href')\n",
    "        if href:\n",
    "            a = f'https://www.waytoagi.com{href}'\n",
    "            a_elements.append(a)\n",
    "\n",
    "    return a_elements\n",
    "\n",
    "tools_links = get_ai_tools_links(url,headers)"
   ]
  },
  {
   "cell_type": "code",
   "execution_count": 9,
   "metadata": {},
   "outputs": [
    {
     "name": "stdout",
     "output_type": "stream",
     "text": [
      "Cici AI\n",
      "https://www.ciciai.com/\n",
      "https://assets.waytoagi.com/usercontent/2024_06_18_19_43_25_64070a4e82.png\n",
      "['📝 ', ' ', '文本', '🤖', ' ', '通用Chatbot', '相关推荐']\n"
     ]
    }
   ],
   "source": [
    "\n",
    "response = requests.get(tools_links[0],headers=headers).content.decode('utf-8')\n",
    "\n",
    "tree = html.fromstring(response)\n",
    "\n",
    "title = tree.xpath('/html/body/div/div/div/div/h1/text()')[0]\n",
    "a_url = tree.xpath('/html/body/div/div/div/div/a')\n",
    "image = tree.xpath('/html/body/div/div/div/img')\n",
    "tags = tree.xpath('/html/body/div/div/div[3]/div/div/text()')\n",
    "\n",
    "print(title)\n",
    "for url in a_url:\n",
    "    href = url.get('href')\n",
    "    if href:\n",
    "        print(href)\n",
    "for img in image:\n",
    "    src = img.get('src')\n",
    "    if src:\n",
    "        print(src)\n",
    "print(tags) \n"
   ]
  },
  {
   "cell_type": "code",
   "execution_count": null,
   "metadata": {},
   "outputs": [],
   "source": []
  }
 ],
 "metadata": {
  "kernelspec": {
   "display_name": "base",
   "language": "python",
   "name": "python3"
  },
  "language_info": {
   "codemirror_mode": {
    "name": "ipython",
    "version": 3
   },
   "file_extension": ".py",
   "mimetype": "text/x-python",
   "name": "python",
   "nbconvert_exporter": "python",
   "pygments_lexer": "ipython3",
   "version": "3.11.7"
  }
 },
 "nbformat": 4,
 "nbformat_minor": 2
}
